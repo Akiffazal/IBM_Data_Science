{
 "cells": [
  {
   "cell_type": "markdown",
   "id": "23e5eb8d",
   "metadata": {},
   "source": [
    "# Data Science Tools and Ecosystem"
   ]
  },
  {
   "cell_type": "markdown",
   "id": "3ef8f392",
   "metadata": {},
   "source": [
    "## In this notebook, Data Science Tools and Ecosystem are summarized."
   ]
  },
  {
   "cell_type": "markdown",
   "id": "47027e8a",
   "metadata": {},
   "source": [
    "**Objectives:**\n",
    "\n",
    "- Understand popular programming languages used in Data Science.\n",
    "- Familiarize yourself with common libraries and tools employed by Data Scientists.\n",
    "- Explore key concepts related to Jupyter Notebooks, RStudio, and version control using Git.\n",
    "- Gain insights into data visualization and manipulation techniques.\n",
    "- Recognize the importance of open-source tools and collaboration platforms in the field of Data Science.\n"
   ]
  },
  {
   "cell_type": "markdown",
   "id": "5bb6b977",
   "metadata": {},
   "source": [
    "## Author\n",
    "\n",
    "Akif Fazal\n"
   ]
  },
  {
   "cell_type": "code",
   "execution_count": null,
   "id": "b403809e",
   "metadata": {},
   "outputs": [],
   "source": []
  },
  {
   "cell_type": "markdown",
   "id": "bb60210b",
   "metadata": {},
   "source": [
    "## Some of the popular languages that Data Scientists use are:\n",
    "## 1. Python\n",
    "## 2. R\n",
    "## 3. SQL"
   ]
  },
  {
   "cell_type": "markdown",
   "id": "f267eb6f",
   "metadata": {},
   "source": [
    "## Some of the commonly used libraries used by Data Scientists include:\n",
    "## 1. Numpy\n",
    "## 2. Pandas\n",
    "## 3. Matplotlib"
   ]
  },
  {
   "cell_type": "markdown",
   "id": "200395b0",
   "metadata": {},
   "source": [
    "| Data Science Tools        |\n",
    "|---------------------------|\n",
    "| Jupyter Notebook          |\n",
    "| RStudio                   |\n",
    "| VS Code (Visual Studio Code)|\n"
   ]
  },
  {
   "cell_type": "markdown",
   "id": "855d6ff3",
   "metadata": {},
   "source": [
    "### Examples of Evaluating Arithmetic Expressions in Python\n",
    "\n",
    "Below are a few examples of evaluating arithmetic expressions in Python.\n",
    "\n"
   ]
  },
  {
   "cell_type": "code",
   "execution_count": 4,
   "id": "3491853a",
   "metadata": {},
   "outputs": [
    {
     "data": {
      "text/plain": [
       "8"
      ]
     },
     "execution_count": 4,
     "metadata": {},
     "output_type": "execute_result"
    }
   ],
   "source": [
    "# Addition\n",
    "   \n",
    "Add = 5 + 3\n",
    "Add"
   ]
  },
  {
   "cell_type": "code",
   "execution_count": 5,
   "id": "ea65e625",
   "metadata": {},
   "outputs": [
    {
     "data": {
      "text/plain": [
       "42"
      ]
     },
     "execution_count": 5,
     "metadata": {},
     "output_type": "execute_result"
    }
   ],
   "source": [
    "# Multiplication\n",
    "\n",
    "result = 6 * 7\n",
    "result"
   ]
  },
  {
   "cell_type": "code",
   "execution_count": 6,
   "id": "ddc95783",
   "metadata": {},
   "outputs": [
    {
     "data": {
      "text/plain": [
       "17"
      ]
     },
     "execution_count": 6,
     "metadata": {},
     "output_type": "execute_result"
    }
   ],
   "source": [
    "# This a simple arithmetic expression to mutiply then add integers\n",
    "\n",
    "(3*4)+5"
   ]
  },
  {
   "cell_type": "code",
   "execution_count": 9,
   "id": "13d2699a",
   "metadata": {},
   "outputs": [
    {
     "data": {
      "text/plain": [
       "3.3333333333333335"
      ]
     },
     "execution_count": 9,
     "metadata": {},
     "output_type": "execute_result"
    }
   ],
   "source": [
    "# This will convert 200 minutes to hours by diving by 60\n",
    "minutes = 200\n",
    "hours = minutes / 60\n",
    "hours"
   ]
  }
 ],
 "metadata": {
  "kernelspec": {
   "display_name": "Python 3 (ipykernel)",
   "language": "python",
   "name": "python3"
  },
  "language_info": {
   "codemirror_mode": {
    "name": "ipython",
    "version": 3
   },
   "file_extension": ".py",
   "mimetype": "text/x-python",
   "name": "python",
   "nbconvert_exporter": "python",
   "pygments_lexer": "ipython3",
   "version": "3.11.3"
  }
 },
 "nbformat": 4,
 "nbformat_minor": 5
}
